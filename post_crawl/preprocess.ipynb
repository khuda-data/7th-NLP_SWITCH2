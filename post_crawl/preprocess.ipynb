{
  "cells": [
    {
      "cell_type": "code",
      "execution_count": null,
      "metadata": {},
      "outputs": [],
      "source": [
        "# 크롤링 모듈 import\n",
        "from wevity_crawler import crawl_wevity\n",
        "from dacon_crawler import crawl_dacon\n",
        "from devEvent_crawler import crawl_devEvent\n",
        "from inflearn_crawler import crawl_inflearn\n",
        "\n",
        "# 각 사이트에서 데이터 크롤링\n",
        "df_wevity = crawl_wevity()\n",
        "df_dev = crawl_devEvent()\n",
        "df_inflearn = crawl_inflearn()\n",
        "df_dacon = crawl_dacon(10)"
      ]
    },
    {
      "cell_type": "code",
      "execution_count": null,
      "metadata": {},
      "outputs": [],
      "source": [
        "import pandas as pd\n",
        "\n",
        "# 데이터 통합\n",
        "df = pd.concat([df_wevity, df_dacon, df_dev, df_inflearn], ignore_index=True)\n",
        "print(f\"총 {len(df)}개 이벤트 통합됨\")"
      ]
    },
    {
      "cell_type": "code",
      "execution_count": null,
      "metadata": {},
      "outputs": [],
      "source": [
        "# 정규표현식을 이용한 데이터 전처리\n",
        "import re\n",
        "from datetime import datetime\n",
        "import pandas as pd\n",
        "\n",
        "def normalize_date(date_str: str) -> str:\n",
        "    \"\"\"\n",
        "    날짜 문자열을 'YYYY.MM.DD ~ YYYY.MM.DD' 형식으로 통일한다.\n",
        "\n",
        "    규칙\n",
        "    ───────────────────────────────────────────────\n",
        "    1. 괄호 안 정보·시간(HH:MM, HHMM)·불필요 공백 제거\n",
        "    2. 'YYYY.MM.DD ~ YYYY.MM.DD'  → 그대로 포맷\n",
        "    3. 'YYYY.MM.DD ~ MM.DD'       → 뒤쪽 연도 = 앞쪽 연도\n",
        "    4. 'YYYY.MM.DD … ~ HH:MM'     → 같은 날 범위\n",
        "    5. 단일 날짜(YYYY.MM.DD)      → 앞뒤 날짜 동일\n",
        "    \"\"\"\n",
        "    date_str = str(date_str).strip()\n",
        "\n",
        "    # ── (1) 노이즈 제거 ──────────────────────────────────\n",
        "    date_str = re.sub(r'\\(.*?\\)', '', date_str)               # (요일) (한국 표준시)\n",
        "    date_str = re.sub(r'\\b\\d{1,2}:\\d{2}\\b', '', date_str)     # 09:00\n",
        "    # 4자리 시간: 공백/틈 뒤 & 공백/문자열끝 앞에 위치할 때만 제거\n",
        "    date_str = re.sub(r'(?<=\\s)(?:[01]\\d[0-5]\\d|2[0-3][0-5]\\d)(?=\\s|$)', '', date_str)\n",
        "    date_str = date_str.replace('-', '.').replace('/', '.')\n",
        "    date_str = re.sub(r'\\s+', ' ', date_str).strip()\n",
        "\n",
        "    # ── (2) YYYY.MM.DD ~ YYYY.MM.DD ─────────────────────\n",
        "    m = re.search(\n",
        "        r'(\\d{4})\\.(\\d{1,2})\\.(\\d{1,2})\\s*~\\s*'\n",
        "        r'(\\d{4})\\.(\\d{1,2})\\.(\\d{1,2})', date_str)\n",
        "    if m:\n",
        "        y1, m1, d1, y2, m2, d2 = map(int, m.groups())\n",
        "        return f\"{datetime(y1, m1, d1):%Y.%m.%d} ~ {datetime(y2, m2, d2):%Y.%m.%d}\"\n",
        "\n",
        "    # ── (3) YYYY.MM.DD ~ MM.DD  (뒤 연도 생략) ───────────\n",
        "    m = re.search(\n",
        "        r'(\\d{4})\\.(\\d{1,2})\\.(\\d{1,2})\\s*~\\s*'\n",
        "        r'(\\d{1,2})\\.(\\d{1,2})', date_str)\n",
        "    if m:\n",
        "        y, m1, d1, m2, d2 = map(int, m.groups())\n",
        "        start = datetime(y,  m1, d1)\n",
        "        end   = datetime(y,  m2, d2)\n",
        "        if end < start:                       # 연말 넘기면 +1y\n",
        "            end = datetime(y+1, m2, d2)\n",
        "        return f\"{start:%Y.%m.%d} ~ {end:%Y.%m.%d}\"\n",
        "\n",
        "    # ── (4) YYYY.MM.DD … ~ HH:MM (같은 날) ──────────────\n",
        "    m = re.search(r'(\\d{4})\\.(\\d{1,2})\\.(\\d{1,2})\\s*~', date_str)\n",
        "    if m:\n",
        "        y, mth, d = map(int, m.groups())\n",
        "        dt = datetime(y, mth, d)\n",
        "        return f\"{dt:%Y.%m.%d} ~ {dt:%Y.%m.%d}\"\n",
        "\n",
        "    # ── (5) 단일 날짜 (YYYY.MM.DD) ──────────────────────\n",
        "    m = re.match(r'(\\d{4})\\.(\\d{1,2})\\.(\\d{1,2})$', date_str)\n",
        "    if m:\n",
        "        y, mth, d = map(int, m.groups())\n",
        "        dt = datetime(y, mth, d)\n",
        "        return f\"{dt:%Y.%m.%d} ~ {dt:%Y.%m.%d}\"\n",
        "\n",
        "    # 이외 패턴은 원본 유지\n",
        "    return date_str\n",
        "\n",
        "# date 컬럼을 'YYYY.MM.DD ~ YYYY.MM.DD' 형식으로 통일\n",
        "df[\"date\"] = df[\"date\"].apply(normalize_date)"
      ]
    },
    {
      "cell_type": "code",
      "execution_count": 16,
      "metadata": {},
      "outputs": [
        {
          "name": "stderr",
          "output_type": "stream",
          "text": [
            "100%|██████████| 75/75 [07:45<00:00,  6.21s/it]"
          ]
        },
        {
          "name": "stdout",
          "output_type": "stream",
          "text": [
            "✅ 저장 완료 → data_with_desc_dev_category.csv\n"
          ]
        },
        {
          "name": "stderr",
          "output_type": "stream",
          "text": [
            "\n"
          ]
        }
      ],
      "source": [
        "# LLM을 이용한 데이터 전처리 \n",
        "import os, time, textwrap, json\n",
        "import pandas as pd\n",
        "from tqdm import tqdm\n",
        "from openai import OpenAI\n",
        "from dotenv import load_dotenv\n",
        "\n",
        "# 환경변수 로드 및 OpenAI 클라이언트 설정\n",
        "load_dotenv()\n",
        "api_key = os.getenv(\"OPENAI_API_KEY\")\n",
        "client = OpenAI(api_key=api_key)\n",
        "\n",
        "def get_description(url: str, *, retry: int = 3) -> str:\n",
        "    \"\"\"웹프리뷰로 URL 핵심 내용(설명) 가져오기\"\"\"\n",
        "    prompt = f\"{url}\\n\\n이 페이지의 주요 정보를 7줄 이내의 줄글 형식으로 문단형 요약을 작성해 주세요.\"\n",
        "    for _ in range(retry):\n",
        "        try:\n",
        "            res = client.responses.create(\n",
        "                model=\"gpt-4.1\",\n",
        "                tools=[{\"type\": \"web_search_preview\"}],\n",
        "                input=prompt,\n",
        "            )\n",
        "            return res.output_text.strip()\n",
        "        except Exception as e:\n",
        "            print(\"⚠️ desc 재시도:\", e)\n",
        "            time.sleep(2)\n",
        "    return \"\"\n",
        "\n",
        "def classify(text: str) -> tuple[bool, str]:\n",
        "    \"\"\"제목+설명 텍스트 → (is_dev_event, category)\"\"\"\n",
        "    system = \"당신은 행사 정보를 분석해 JSON으로 반환하는 AI입니다.\"\n",
        "    user = f\"\"\"\n",
        "──── 행사 정보 ────\n",
        "{text}\n",
        "──────────────────\n",
        "1) 개발자·기술 행사면 \"yes\", 아니면 \"no\"\n",
        "2) 카테고리는 하나 선택:\n",
        "   공모전/대회 | 부트캠프/교육 | 컨퍼런스/포럼 | 밋업/네트워킹 | 기타\n",
        "JSON만:\n",
        "{{\"is_dev_event\":\"yes\",\"category\":\"부트캠프/교육\"}}\n",
        "\"\"\"\n",
        "    res = client.chat.completions.create(\n",
        "        model=\"gpt-4.1\",\n",
        "        messages=[{\"role\": \"system\", \"content\": system},\n",
        "                  {\"role\": \"user\",   \"content\": textwrap.dedent(user)}],\n",
        "        response_format={\"type\": \"json_object\"},\n",
        "        temperature=0,\n",
        "        max_tokens=120,\n",
        "    )\n",
        "    try:\n",
        "        data = json.loads(res.choices[0].message.content)\n",
        "    except Exception as e:\n",
        "        print(\"⚠️ JSON 파싱 실패:\", e)\n",
        "        return False, \"기타\"\n",
        "\n",
        "    is_dev = str(data.get(\"is_dev_event\", \"\")).lower().startswith(\"y\")\n",
        "    cat    = data.get(\"category\", \"기타\")\n",
        "    if cat not in ['공모전/대회','부트캠프/교육','컨퍼런스/포럼','밋업/네트워킹','기타']:\n",
        "        cat = \"기타\"\n",
        "    return is_dev, cat\n",
        "\n",
        "# ─── 실행 셀 (DataFrame 처리) ────────────────────────────\n",
        "tqdm.pandas()\n",
        "\n",
        "def pipeline(row):\n",
        "    desc = get_description(row[\"url\"])\n",
        "    merged = f\"제목: {row['title']}\\n설명: {desc}\"\n",
        "    is_dev, cat = classify(merged)\n",
        "    return pd.Series({\"description\": desc,\n",
        "                      \"is_dev_event\": is_dev,\n",
        "                      \"category\": cat})\n",
        "\n",
        "df[[\"description\", \"is_dev_event\", \"category\"]] = (\n",
        "    df.progress_apply(pipeline, axis=1)\n",
        ")\n",
        "\n",
        "df[[\"title\", \"description\", \"is_dev_event\", \"category\"]].to_csv(\"data_with_desc_dev_category.csv\", index=False, encoding=\"utf-8-sig\")\n",
        "df.to_csv(\"data_with_new_features.csv\", index=False, encoding=\"utf-8-sig\")\n",
        "print(\"✅ 저장 완료 → data_with_new_features.csv\")"
      ]
    },
    {
      "cell_type": "code",
      "execution_count": 20,
      "metadata": {},
      "outputs": [
        {
          "data": {
            "text/html": [
              "<div>\n",
              "<style scoped>\n",
              "    .dataframe tbody tr th:only-of-type {\n",
              "        vertical-align: middle;\n",
              "    }\n",
              "\n",
              "    .dataframe tbody tr th {\n",
              "        vertical-align: top;\n",
              "    }\n",
              "\n",
              "    .dataframe thead th {\n",
              "        text-align: right;\n",
              "    }\n",
              "</style>\n",
              "<table border=\"1\" class=\"dataframe\">\n",
              "  <thead>\n",
              "    <tr style=\"text-align: right;\">\n",
              "      <th></th>\n",
              "      <th>title</th>\n",
              "      <th>host</th>\n",
              "      <th>date</th>\n",
              "      <th>url</th>\n",
              "      <th>description</th>\n",
              "      <th>is_dev_event</th>\n",
              "      <th>category</th>\n",
              "    </tr>\n",
              "  </thead>\n",
              "  <tbody>\n",
              "  </tbody>\n",
              "</table>\n",
              "</div>"
            ],
            "text/plain": [
              "Empty DataFrame\n",
              "Columns: [title, host, date, url, description, is_dev_event, category]\n",
              "Index: []"
            ]
          },
          "execution_count": 20,
          "metadata": {},
          "output_type": "execute_result"
        }
      ],
      "source": [
        "df.head()"
      ]
    },
    {
      "cell_type": "code",
      "execution_count": 19,
      "metadata": {},
      "outputs": [
        {
          "name": "stdout",
          "output_type": "stream",
          "text": [
            "✅ 저장 완료 → preprocessed_data.csv\n"
          ]
        }
      ],
      "source": [
        "# 개발 행사 분류\n",
        "# True인 행만 필터링\n",
        "df = df[df[\"is_dev_event\"] == True].copy()\n",
        "\n",
        "# 컬럼 삭제\n",
        "df.drop(columns=[\"is_dev_event\"], inplace=True)\n",
        "\n",
        "# 저장\n",
        "df.to_csv(\"preprocessed_data.csv\", index=False, encoding=\"utf-8-sig\")\n",
        "print(\"✅ 저장 완료 → preprocessed_data.csv\")\n"
      ]
    },
    {
      "cell_type": "code",
      "execution_count": null,
      "metadata": {},
      "outputs": [],
      "source": [
        "# 문장 유사도 계산\n",
        "from sentence_transformers import SentenceTransformer, util\n",
        "\n",
        "# 1. 모델 로드 (최초 1회만 필요)\n",
        "model = SentenceTransformer('sentence-transformers/paraphrase-multilingual-MiniLM-L12-v2')"
      ]
    },
    {
      "cell_type": "code",
      "execution_count": 22,
      "metadata": {},
      "outputs": [
        {
          "name": "stdout",
          "output_type": "stream",
          "text": [
            "✅ 추천 완료 → recommended_events.csv\n"
          ]
        }
      ],
      "source": [
        "# 2. 유저 관심 키워드 정의\n",
        "user_keywords = [\"백엔드\", \"클라우드\", \"Spring\", \"AI\", \"LLM\"]\n",
        "user_sentence = \"이 행사는 \" + \", \".join(user_keywords) + \" 기술에 관심 있는 개발자를 위한 프로그램입니다.\"\n",
        "\n",
        "# 3. 데이터 로드 및 전처리\n",
        "#df = pd.read_csv(\"preprocessed_data.csv\")\n",
        "df = pd.read_csv(\"data_with_desc_dev_category.csv\")\n",
        "df[\"full_text\"] = df[\"title\"].fillna('') + \"\\n\" + df[\"description\"].fillna('')\n",
        "\n",
        "# 4. 임베딩\n",
        "user_embedding = model.encode(user_sentence, convert_to_tensor=True)\n",
        "text_embeddings = model.encode(df[\"full_text\"].tolist(), convert_to_tensor=True)\n",
        "\n",
        "# 5. 유사도 계산\n",
        "cosine_scores = util.cos_sim(user_embedding, text_embeddings)[0].cpu().numpy()\n",
        "df[\"score\"] = cosine_scores\n",
        "\n",
        "# 6. 임계값 기반 추천 필터링\n",
        "threshold = 0.6  # 조정 가능\n",
        "recommended_df = df[df[\"score\"] >= threshold].sort_values(by=\"score\", ascending=False)\n",
        "\n",
        "# 7. 결과 저장\n",
        "recommended_df.to_csv(\"recommended_events.csv\", index=False, encoding=\"utf-8-sig\")\n",
        "print(\"✅ 추천 완료 → recommended_events.csv\")\n"
      ]
    }
  ],
  "metadata": {
    "kernelspec": {
      "display_name": "dev-event",
      "language": "python",
      "name": "python3"
    },
    "language_info": {
      "codemirror_mode": {
        "name": "ipython",
        "version": 3
      },
      "file_extension": ".py",
      "mimetype": "text/x-python",
      "name": "python",
      "nbconvert_exporter": "python",
      "pygments_lexer": "ipython3",
      "version": "3.10.18"
    }
  },
  "nbformat": 4,
  "nbformat_minor": 2
}
